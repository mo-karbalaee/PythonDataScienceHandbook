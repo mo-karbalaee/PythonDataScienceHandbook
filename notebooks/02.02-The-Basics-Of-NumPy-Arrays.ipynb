{
  "cells": [
    {
      "cell_type": "markdown",
      "metadata": {
        "id": "Uj6xsVs8RB9x"
      },
      "source": [
        "# The Basics of NumPy Arrays"
      ]
    },
    {
      "cell_type": "markdown",
      "metadata": {
        "id": "5b3P149WRB9y"
      },
      "source": [
        "Data manipulation in Python is nearly synonymous with NumPy array manipulation: even newer tools like Pandas ([Part 3](03.00-Introduction-to-Pandas.ipynb)) are built around the NumPy array.\n",
        "This chapter will present several examples of using NumPy array manipulation to access data and subarrays, and to split, reshape, and join the arrays.\n",
        "While the types of operations shown here may seem a bit dry and pedantic, they comprise the building blocks of many other examples used throughout the book.\n",
        "Get to know them well!\n",
        "\n",
        "We'll cover a few categories of basic array manipulations here:\n",
        "\n",
        "- *Attributes of arrays*: Determining the size, shape, memory consumption, and data types of arrays\n",
        "- *Indexing of arrays*: Getting and setting the values of individual array elements\n",
        "- *Slicing of arrays*: Getting and setting smaller subarrays within a larger array\n",
        "- *Reshaping of arrays*: Changing the shape of a given array\n",
        "- *Joining and splitting of arrays*: Combining multiple arrays into one, and splitting one array into many"
      ]
    },
    {
      "cell_type": "markdown",
      "metadata": {
        "id": "odhgqMNsRB9y"
      },
      "source": [
        "## NumPy Array Attributes"
      ]
    },
    {
      "cell_type": "markdown",
      "metadata": {
        "id": "KlKPsH85RB9y"
      },
      "source": [
        "First let's discuss some useful array attributes.\n",
        "We'll start by defining random arrays of one, two, and three dimensions.\n",
        "We'll use NumPy's random number generator, which we will *seed* with a set value in order to ensure that the same random arrays are generated each time this code is run:"
      ]
    },
    {
      "cell_type": "code",
      "execution_count": 424,
      "metadata": {
        "jupyter": {
          "outputs_hidden": false
        },
        "id": "7lnyPuNfRB9z"
      },
      "outputs": [],
      "source": [
        "import numpy as np\n",
        "# rng stands for random number generator\n",
        "rng = np.random.default_rng(seed=1701)  # seed for reproducibility\n",
        "x1 = rng.integers(10, size=6)  # one-dimensional array\n",
        "x2 = rng.integers(10, size=(3, 4))  # two-dimensional array\n",
        "x3 = rng.integers(10, size=(3, 4, 5))  # three-dimensional array"
      ]
    },
    {
      "cell_type": "markdown",
      "metadata": {
        "id": "HSlnH71RRB9z"
      },
      "source": [
        "Each array has attributes including `ndim` (the number of dimensions), `shape` (the size of each dimension), `size` (the total size of the array), and `dtype` (the type of each element):"
      ]
    },
    {
      "cell_type": "code",
      "execution_count": 425,
      "metadata": {
        "jupyter": {
          "outputs_hidden": false
        },
        "id": "VdMbc4I6RB9z",
        "outputId": "a5ea991d-4292-4881-a887-083f0d2971c1",
        "colab": {
          "base_uri": "https://localhost:8080/"
        }
      },
      "outputs": [
        {
          "output_type": "stream",
          "name": "stdout",
          "text": [
            "x3 ndim:  3\n",
            "x3 shape: (3, 4, 5)\n",
            "x3 size:  60\n",
            "dtype:    int64\n"
          ]
        }
      ],
      "source": [
        "print(\"x3 ndim: \", x3.ndim)\n",
        "print(\"x3 shape:\", x3.shape)\n",
        "print(\"x3 size: \", x3.size)\n",
        "print(\"dtype:   \", x3.dtype)"
      ]
    },
    {
      "cell_type": "markdown",
      "metadata": {
        "id": "0SPyYZ_rRB90"
      },
      "source": [
        "For more discussion of data types, see [Understanding Data Types in Python](02.01-Understanding-Data-Types.ipynb)."
      ]
    },
    {
      "cell_type": "markdown",
      "metadata": {
        "id": "HsNHV--ARB90"
      },
      "source": [
        "## Array Indexing: Accessing Single Elements"
      ]
    },
    {
      "cell_type": "markdown",
      "metadata": {
        "id": "q65AhBVaRB90"
      },
      "source": [
        "If you are familiar with Python's standard list indexing, indexing in NumPy will feel quite familiar.\n",
        "In a one-dimensional array, the $i^{th}$ value (counting from zero) can be accessed by specifying the desired index in square brackets, just as with Python lists:"
      ]
    },
    {
      "cell_type": "code",
      "execution_count": 426,
      "metadata": {
        "jupyter": {
          "outputs_hidden": false
        },
        "id": "LB5vq0T7RB90",
        "outputId": "48345630-2b41-419b-fccc-af22823f0976",
        "colab": {
          "base_uri": "https://localhost:8080/"
        }
      },
      "outputs": [
        {
          "output_type": "execute_result",
          "data": {
            "text/plain": [
              "array([9, 4, 0, 3, 8, 6])"
            ]
          },
          "metadata": {},
          "execution_count": 426
        }
      ],
      "source": [
        "x1"
      ]
    },
    {
      "cell_type": "code",
      "execution_count": 427,
      "metadata": {
        "jupyter": {
          "outputs_hidden": false
        },
        "id": "4hmmsp39RB90",
        "outputId": "bfe9ad10-1b8c-4fd3-a762-adbe355f5f21",
        "colab": {
          "base_uri": "https://localhost:8080/"
        }
      },
      "outputs": [
        {
          "output_type": "execute_result",
          "data": {
            "text/plain": [
              "np.int64(9)"
            ]
          },
          "metadata": {},
          "execution_count": 427
        }
      ],
      "source": [
        "x1[0]"
      ]
    },
    {
      "cell_type": "code",
      "execution_count": 428,
      "metadata": {
        "jupyter": {
          "outputs_hidden": false
        },
        "id": "S9VG9E8-RB90",
        "outputId": "a95fed29-b5df-4a81-fb40-78be3a983206",
        "colab": {
          "base_uri": "https://localhost:8080/"
        }
      },
      "outputs": [
        {
          "output_type": "execute_result",
          "data": {
            "text/plain": [
              "np.int64(8)"
            ]
          },
          "metadata": {},
          "execution_count": 428
        }
      ],
      "source": [
        "x1[4]"
      ]
    },
    {
      "cell_type": "markdown",
      "metadata": {
        "id": "wJN9JE5aRB90"
      },
      "source": [
        "To index from the end of the array, you can use negative indices:"
      ]
    },
    {
      "cell_type": "code",
      "execution_count": 429,
      "metadata": {
        "jupyter": {
          "outputs_hidden": false
        },
        "id": "eNFbtxB7RB90",
        "outputId": "ce5391f9-56ae-439e-f162-762663c49869",
        "colab": {
          "base_uri": "https://localhost:8080/"
        }
      },
      "outputs": [
        {
          "output_type": "execute_result",
          "data": {
            "text/plain": [
              "np.int64(6)"
            ]
          },
          "metadata": {},
          "execution_count": 429
        }
      ],
      "source": [
        "x1[-1]"
      ]
    },
    {
      "cell_type": "code",
      "execution_count": 430,
      "metadata": {
        "jupyter": {
          "outputs_hidden": false
        },
        "id": "piassaRjRB91",
        "outputId": "93bb1aee-0451-45e6-eda8-b55daff3978f",
        "colab": {
          "base_uri": "https://localhost:8080/"
        }
      },
      "outputs": [
        {
          "output_type": "execute_result",
          "data": {
            "text/plain": [
              "np.int64(8)"
            ]
          },
          "metadata": {},
          "execution_count": 430
        }
      ],
      "source": [
        "x1[-2]"
      ]
    },
    {
      "cell_type": "markdown",
      "metadata": {
        "id": "Ob5dW1DBRB91"
      },
      "source": [
        "In a multidimensional array, items can be accessed using a comma-separated `(row, column)` tuple:"
      ]
    },
    {
      "cell_type": "code",
      "execution_count": 431,
      "metadata": {
        "jupyter": {
          "outputs_hidden": false
        },
        "id": "RqQaT2RyRB91",
        "outputId": "f1ea7bc2-e339-45e0-eef9-dd3a6ff2b223",
        "colab": {
          "base_uri": "https://localhost:8080/"
        }
      },
      "outputs": [
        {
          "output_type": "execute_result",
          "data": {
            "text/plain": [
              "array([[3, 1, 3, 7],\n",
              "       [4, 0, 2, 3],\n",
              "       [0, 0, 6, 9]])"
            ]
          },
          "metadata": {},
          "execution_count": 431
        }
      ],
      "source": [
        "x2"
      ]
    },
    {
      "cell_type": "code",
      "execution_count": 432,
      "metadata": {
        "jupyter": {
          "outputs_hidden": false
        },
        "id": "WkQqJLVDRB91",
        "outputId": "41d444e2-4568-4e81-c23e-6c80803af15f",
        "colab": {
          "base_uri": "https://localhost:8080/"
        }
      },
      "outputs": [
        {
          "output_type": "execute_result",
          "data": {
            "text/plain": [
              "np.int64(3)"
            ]
          },
          "metadata": {},
          "execution_count": 432
        }
      ],
      "source": [
        "x2[0, 0]"
      ]
    },
    {
      "cell_type": "code",
      "execution_count": 433,
      "metadata": {
        "jupyter": {
          "outputs_hidden": false
        },
        "id": "NL5NryRGRB91",
        "outputId": "63304bfc-4165-4455-fff4-2f2124e006f7",
        "colab": {
          "base_uri": "https://localhost:8080/"
        }
      },
      "outputs": [
        {
          "output_type": "execute_result",
          "data": {
            "text/plain": [
              "np.int64(0)"
            ]
          },
          "metadata": {},
          "execution_count": 433
        }
      ],
      "source": [
        "x2[2, 0]"
      ]
    },
    {
      "cell_type": "code",
      "execution_count": 434,
      "metadata": {
        "jupyter": {
          "outputs_hidden": false
        },
        "id": "LPs_B7nBRB91",
        "outputId": "02dfd124-6367-4f6d-8dd6-9f3d7d653704",
        "colab": {
          "base_uri": "https://localhost:8080/"
        }
      },
      "outputs": [
        {
          "output_type": "execute_result",
          "data": {
            "text/plain": [
              "np.int64(9)"
            ]
          },
          "metadata": {},
          "execution_count": 434
        }
      ],
      "source": [
        "x2[2, -1]"
      ]
    },
    {
      "cell_type": "markdown",
      "metadata": {
        "id": "C6Ugt5zyRB91"
      },
      "source": [
        "Values can also be modified using any of the preceding index notation:"
      ]
    },
    {
      "cell_type": "code",
      "execution_count": 435,
      "metadata": {
        "jupyter": {
          "outputs_hidden": false
        },
        "id": "1qe7uVWuRB91",
        "outputId": "e94fe970-8e0b-4e14-d7b7-e302c166564a",
        "colab": {
          "base_uri": "https://localhost:8080/"
        }
      },
      "outputs": [
        {
          "output_type": "execute_result",
          "data": {
            "text/plain": [
              "array([[12,  1,  3,  7],\n",
              "       [ 4,  0,  2,  3],\n",
              "       [ 0,  0,  6,  9]])"
            ]
          },
          "metadata": {},
          "execution_count": 435
        }
      ],
      "source": [
        "x2[0, 0] = 12\n",
        "x2"
      ]
    },
    {
      "cell_type": "markdown",
      "metadata": {
        "id": "ubVeSrqVRB91"
      },
      "source": [
        "Keep in mind that, unlike Python lists, NumPy arrays have a fixed type.\n",
        "This means, for example, that if you attempt to insert a floating-point value into an integer array, the value will be silently truncated. Don't be caught unaware by this behavior!"
      ]
    },
    {
      "cell_type": "code",
      "execution_count": 436,
      "metadata": {
        "jupyter": {
          "outputs_hidden": false
        },
        "id": "Hmn7LWtmRB91",
        "outputId": "407e3fa6-3910-4b18-a3f1-de49784fd8e1",
        "colab": {
          "base_uri": "https://localhost:8080/"
        }
      },
      "outputs": [
        {
          "output_type": "execute_result",
          "data": {
            "text/plain": [
              "array([3, 4, 0, 3, 8, 6])"
            ]
          },
          "metadata": {},
          "execution_count": 436
        }
      ],
      "source": [
        "x1[0] = 3.14159  # this will be truncated!\n",
        "# It will not throw an exception! Have it in mind\n",
        "x1"
      ]
    },
    {
      "cell_type": "markdown",
      "metadata": {
        "id": "_o77mmiVRB91"
      },
      "source": [
        "## Array Slicing: Accessing Subarrays"
      ]
    },
    {
      "cell_type": "markdown",
      "metadata": {
        "id": "_dgB0p-0RB91"
      },
      "source": [
        "Just as we can use square brackets to access individual array elements, we can also use them to access subarrays with the *slice* notation, marked by the colon (`:`) character.\n",
        "The NumPy slicing syntax follows that of the standard Python list; to access a slice of an array `x`, use this:\n",
        "``` python\n",
        "x[start:stop:step]\n",
        "```\n",
        "If any of these are unspecified, they default to the values `start=0`, `stop=<size of dimension>`, `step=1`.\n",
        "Let's look at some examples of accessing subarrays in one dimension and in multiple dimensions."
      ]
    },
    {
      "cell_type": "markdown",
      "metadata": {
        "id": "O-j7H21SRB91"
      },
      "source": [
        "### One-Dimensional Subarrays\n",
        "\n",
        "Here are some examples of accessing elements in one-dimensional subarrays:"
      ]
    },
    {
      "cell_type": "code",
      "execution_count": 437,
      "metadata": {
        "jupyter": {
          "outputs_hidden": false
        },
        "id": "7VYZKQyfRB91",
        "outputId": "95cd29bf-202c-4623-90b5-edc5cfb57857",
        "colab": {
          "base_uri": "https://localhost:8080/"
        }
      },
      "outputs": [
        {
          "output_type": "execute_result",
          "data": {
            "text/plain": [
              "array([3, 4, 0, 3, 8, 6])"
            ]
          },
          "metadata": {},
          "execution_count": 437
        }
      ],
      "source": [
        "x1"
      ]
    },
    {
      "cell_type": "code",
      "source": [
        "import array\n",
        "\n",
        "python_array = array.array('i', [1, 2, 3, 4, 5])\n",
        "print(type(python_array))\n",
        "print(type(x1))"
      ],
      "metadata": {
        "id": "pZ1byHc4UMGc",
        "outputId": "380f6b9d-0b63-4477-fdaf-1e324d87baee",
        "colab": {
          "base_uri": "https://localhost:8080/"
        }
      },
      "execution_count": 438,
      "outputs": [
        {
          "output_type": "stream",
          "name": "stdout",
          "text": [
            "<class 'array.array'>\n",
            "<class 'numpy.ndarray'>\n"
          ]
        }
      ]
    },
    {
      "cell_type": "markdown",
      "source": [
        "You saw in the code block above that Python arrays and numpy arrays are not of the same type. It might sound obvious, but let me show you how you might make a mistake about it."
      ],
      "metadata": {
        "id": "B8m36gfKUfNO"
      }
    },
    {
      "cell_type": "code",
      "source": [
        "python_array"
      ],
      "metadata": {
        "id": "dH_fL0ITU_KX",
        "outputId": "2162cbfc-63f9-43b1-f02b-e8bc3131406f",
        "colab": {
          "base_uri": "https://localhost:8080/"
        }
      },
      "execution_count": 439,
      "outputs": [
        {
          "output_type": "execute_result",
          "data": {
            "text/plain": [
              "array('i', [1, 2, 3, 4, 5])"
            ]
          },
          "metadata": {},
          "execution_count": 439
        }
      ]
    },
    {
      "cell_type": "code",
      "source": [
        "x1"
      ],
      "metadata": {
        "id": "B8e_rYp4VLAc",
        "outputId": "1a12d9b7-db80-4d0d-fba0-2b3c89cb260a",
        "colab": {
          "base_uri": "https://localhost:8080/"
        }
      },
      "execution_count": 440,
      "outputs": [
        {
          "output_type": "execute_result",
          "data": {
            "text/plain": [
              "array([3, 4, 0, 3, 8, 6])"
            ]
          },
          "metadata": {},
          "execution_count": 440
        }
      ]
    },
    {
      "cell_type": "markdown",
      "source": [
        "You see! they both say \"array\". This does not mean that they are of the same type.\n",
        "\n",
        "\n"
      ],
      "metadata": {
        "id": "G5SNLRffVNno"
      }
    },
    {
      "cell_type": "code",
      "execution_count": 441,
      "metadata": {
        "jupyter": {
          "outputs_hidden": false
        },
        "id": "JuapUiBZRB91",
        "outputId": "7c73beb5-3893-431f-be03-3c191ed34962",
        "colab": {
          "base_uri": "https://localhost:8080/"
        }
      },
      "outputs": [
        {
          "output_type": "execute_result",
          "data": {
            "text/plain": [
              "array([3, 4, 0])"
            ]
          },
          "metadata": {},
          "execution_count": 441
        }
      ],
      "source": [
        "x1[:3]  # first three elements"
      ]
    },
    {
      "cell_type": "code",
      "execution_count": 442,
      "metadata": {
        "jupyter": {
          "outputs_hidden": false
        },
        "id": "6rbFMi9MRB91",
        "outputId": "845e883f-2fde-4905-d3f1-26fc62491f0b",
        "colab": {
          "base_uri": "https://localhost:8080/"
        }
      },
      "outputs": [
        {
          "output_type": "execute_result",
          "data": {
            "text/plain": [
              "array([3, 8, 6])"
            ]
          },
          "metadata": {},
          "execution_count": 442
        }
      ],
      "source": [
        "x1[3:]  # elements after index 3"
      ]
    },
    {
      "cell_type": "code",
      "execution_count": 443,
      "metadata": {
        "jupyter": {
          "outputs_hidden": false
        },
        "id": "-fLOAio0RB92",
        "outputId": "7d54a6f6-458e-40d1-e618-8929e5ba90cb",
        "colab": {
          "base_uri": "https://localhost:8080/"
        }
      },
      "outputs": [
        {
          "output_type": "execute_result",
          "data": {
            "text/plain": [
              "array([4, 0, 3])"
            ]
          },
          "metadata": {},
          "execution_count": 443
        }
      ],
      "source": [
        "x1[1:4]  # middle subarray"
      ]
    },
    {
      "cell_type": "code",
      "execution_count": 444,
      "metadata": {
        "jupyter": {
          "outputs_hidden": false
        },
        "id": "Y_r0arYhRB92",
        "outputId": "1ef97902-f386-45d4-a1d1-9672b7098add",
        "colab": {
          "base_uri": "https://localhost:8080/"
        }
      },
      "outputs": [
        {
          "output_type": "execute_result",
          "data": {
            "text/plain": [
              "array([3, 0, 8])"
            ]
          },
          "metadata": {},
          "execution_count": 444
        }
      ],
      "source": [
        "x1[::2]  # every second element"
      ]
    },
    {
      "cell_type": "code",
      "execution_count": 445,
      "metadata": {
        "jupyter": {
          "outputs_hidden": false
        },
        "id": "hAbJ91HSRB92",
        "outputId": "a059c3b2-34dd-44ae-ae0d-05d1b0fdfacf",
        "colab": {
          "base_uri": "https://localhost:8080/"
        }
      },
      "outputs": [
        {
          "output_type": "execute_result",
          "data": {
            "text/plain": [
              "array([4, 3, 6])"
            ]
          },
          "metadata": {},
          "execution_count": 445
        }
      ],
      "source": [
        "x1[1::2]  # every second element, starting at index 1"
      ]
    },
    {
      "cell_type": "markdown",
      "metadata": {
        "id": "wBQkANvFRB92"
      },
      "source": [
        "A potentially confusing case is when the `step` value is negative.\n",
        "In this case, the defaults for `start` and `stop` are swapped.\n",
        "This becomes a convenient way to reverse an array:"
      ]
    },
    {
      "cell_type": "code",
      "execution_count": 446,
      "metadata": {
        "jupyter": {
          "outputs_hidden": false
        },
        "id": "S9Uzm-3GRB92",
        "outputId": "f86151bb-b8d9-4313-c0f8-3c272bad8b48",
        "colab": {
          "base_uri": "https://localhost:8080/"
        }
      },
      "outputs": [
        {
          "output_type": "execute_result",
          "data": {
            "text/plain": [
              "array([6, 8, 3, 0, 4, 3])"
            ]
          },
          "metadata": {},
          "execution_count": 446
        }
      ],
      "source": [
        "x1[::-1]  # all elements, reversed"
      ]
    },
    {
      "cell_type": "code",
      "execution_count": 447,
      "metadata": {
        "jupyter": {
          "outputs_hidden": false
        },
        "id": "HpOouhovRB92",
        "outputId": "53b49c56-b0a0-40c5-8875-44e1094b68b5",
        "colab": {
          "base_uri": "https://localhost:8080/"
        }
      },
      "outputs": [
        {
          "output_type": "execute_result",
          "data": {
            "text/plain": [
              "array([8, 0, 3])"
            ]
          },
          "metadata": {},
          "execution_count": 447
        }
      ],
      "source": [
        "x1[4::-2]  # every second element from index 4, reversed"
      ]
    },
    {
      "cell_type": "markdown",
      "metadata": {
        "id": "U3OqVd6zRB92"
      },
      "source": [
        "### Multidimensional Subarrays\n",
        "\n",
        "Multidimensional slices work in the same way, with multiple slices separated by commas.\n",
        "For example:"
      ]
    },
    {
      "cell_type": "code",
      "execution_count": 448,
      "metadata": {
        "jupyter": {
          "outputs_hidden": false
        },
        "id": "jNk3gpU3RB92",
        "outputId": "5a7f538a-f67c-4b57-b386-c00abac9ab92",
        "colab": {
          "base_uri": "https://localhost:8080/"
        }
      },
      "outputs": [
        {
          "output_type": "execute_result",
          "data": {
            "text/plain": [
              "array([[12,  1,  3,  7],\n",
              "       [ 4,  0,  2,  3],\n",
              "       [ 0,  0,  6,  9]])"
            ]
          },
          "metadata": {},
          "execution_count": 448
        }
      ],
      "source": [
        "x2"
      ]
    },
    {
      "cell_type": "code",
      "execution_count": 449,
      "metadata": {
        "jupyter": {
          "outputs_hidden": false
        },
        "id": "wN8l5iaiRB92",
        "outputId": "5c0460f0-7731-4556-8cee-e46c41336dcc",
        "colab": {
          "base_uri": "https://localhost:8080/"
        }
      },
      "outputs": [
        {
          "output_type": "execute_result",
          "data": {
            "text/plain": [
              "array([[12,  1,  3],\n",
              "       [ 4,  0,  2]])"
            ]
          },
          "metadata": {},
          "execution_count": 449
        }
      ],
      "source": [
        "x2[:2, :3]  # first two rows & three columns"
      ]
    },
    {
      "cell_type": "code",
      "execution_count": 450,
      "metadata": {
        "jupyter": {
          "outputs_hidden": false
        },
        "id": "NMl67lgrRB92",
        "outputId": "8722cd1b-c1e4-4950-8cda-07f0a92cd0ff",
        "colab": {
          "base_uri": "https://localhost:8080/"
        }
      },
      "outputs": [
        {
          "output_type": "execute_result",
          "data": {
            "text/plain": [
              "array([[12,  3],\n",
              "       [ 4,  2],\n",
              "       [ 0,  6]])"
            ]
          },
          "metadata": {},
          "execution_count": 450
        }
      ],
      "source": [
        "x2[:3, ::2]  # three rows, every second column"
      ]
    },
    {
      "cell_type": "code",
      "execution_count": 451,
      "metadata": {
        "jupyter": {
          "outputs_hidden": false
        },
        "id": "FqJJy-EzRB92",
        "outputId": "65d75775-12ef-4985-bb30-c7a41c5c0b4e",
        "colab": {
          "base_uri": "https://localhost:8080/"
        }
      },
      "outputs": [
        {
          "output_type": "execute_result",
          "data": {
            "text/plain": [
              "array([[ 9,  6,  0,  0],\n",
              "       [ 3,  2,  0,  4],\n",
              "       [ 7,  3,  1, 12]])"
            ]
          },
          "metadata": {},
          "execution_count": 451
        }
      ],
      "source": [
        "x2[::-1, ::-1]  # all rows & columns, reversed"
      ]
    },
    {
      "cell_type": "markdown",
      "metadata": {
        "id": "9hnfVo0JRB92"
      },
      "source": [
        "#### Accessing array rows and columns\n",
        "\n",
        "One commonly needed routine is accessing single rows or columns of an array.\n",
        "This can be done by combining indexing and slicing, using an empty slice marked by a single colon (`:`):"
      ]
    },
    {
      "cell_type": "code",
      "execution_count": 452,
      "metadata": {
        "jupyter": {
          "outputs_hidden": false
        },
        "id": "11rjtWFGRB92",
        "outputId": "26158876-4f60-4f68-9af3-99c86eb3cc69",
        "colab": {
          "base_uri": "https://localhost:8080/"
        }
      },
      "outputs": [
        {
          "output_type": "execute_result",
          "data": {
            "text/plain": [
              "array([12,  4,  0])"
            ]
          },
          "metadata": {},
          "execution_count": 452
        }
      ],
      "source": [
        "x2[:, 0]  # first column of x2"
      ]
    },
    {
      "cell_type": "code",
      "source": [],
      "metadata": {
        "id": "_A_MAoT4XZbH"
      },
      "execution_count": null,
      "outputs": []
    },
    {
      "cell_type": "markdown",
      "source": [
        "Look at it this way, the first one is the index of rows and the second one is the index of columns.\n",
        "by : you are saying that from index 0 to the last possible index of rows and with 0 on the second argument,\n",
        "you are saying that you just want tht first column."
      ],
      "metadata": {
        "id": "JjP8N50wXUSv"
      }
    },
    {
      "cell_type": "code",
      "execution_count": 453,
      "metadata": {
        "jupyter": {
          "outputs_hidden": false
        },
        "id": "_9Ht0T6zRB93",
        "outputId": "2d4e7945-30b8-47e9-f335-7ed81a7b3360",
        "colab": {
          "base_uri": "https://localhost:8080/"
        }
      },
      "outputs": [
        {
          "output_type": "execute_result",
          "data": {
            "text/plain": [
              "array([12,  1,  3,  7])"
            ]
          },
          "metadata": {},
          "execution_count": 453
        }
      ],
      "source": [
        "x2[0, :]  # first row of x2"
      ]
    },
    {
      "cell_type": "markdown",
      "metadata": {
        "id": "Tw83TeMpRB93"
      },
      "source": [
        "In the case of row access, the empty slice can be omitted for a more compact syntax:"
      ]
    },
    {
      "cell_type": "code",
      "execution_count": 454,
      "metadata": {
        "jupyter": {
          "outputs_hidden": false
        },
        "id": "q_xfSRTSRB93",
        "outputId": "51d31e0c-47d1-4478-cddf-fc2d57ba0303",
        "colab": {
          "base_uri": "https://localhost:8080/"
        }
      },
      "outputs": [
        {
          "output_type": "execute_result",
          "data": {
            "text/plain": [
              "array([12,  1,  3,  7])"
            ]
          },
          "metadata": {},
          "execution_count": 454
        }
      ],
      "source": [
        "x2[0]  # equivalent to x2[0, :]"
      ]
    },
    {
      "cell_type": "markdown",
      "metadata": {
        "id": "2fg3Z0jyRB93"
      },
      "source": [
        "### Subarrays as No-Copy Views\n",
        "\n",
        "Unlike Python list slices, NumPy array slices are returned as *views* rather than *copies* of the array data.\n",
        "Consider our two-dimensional array from before:"
      ]
    },
    {
      "cell_type": "code",
      "execution_count": 455,
      "metadata": {
        "jupyter": {
          "outputs_hidden": false
        },
        "id": "dPv5IsKTRB93",
        "outputId": "25a50d4a-3fd2-4922-cf07-a5a6c4ce880a",
        "colab": {
          "base_uri": "https://localhost:8080/"
        }
      },
      "outputs": [
        {
          "output_type": "stream",
          "name": "stdout",
          "text": [
            "[[12  1  3  7]\n",
            " [ 4  0  2  3]\n",
            " [ 0  0  6  9]]\n"
          ]
        }
      ],
      "source": [
        "print(x2)"
      ]
    },
    {
      "cell_type": "markdown",
      "metadata": {
        "id": "r698DMdtRB93"
      },
      "source": [
        "Let's extract a $2 \\times 2$ subarray from this:"
      ]
    },
    {
      "cell_type": "code",
      "execution_count": 456,
      "metadata": {
        "jupyter": {
          "outputs_hidden": false
        },
        "id": "1XPo2wKeRB93",
        "outputId": "8394a3db-e267-4a6f-b2bd-b7543d4d36be",
        "colab": {
          "base_uri": "https://localhost:8080/"
        }
      },
      "outputs": [
        {
          "output_type": "stream",
          "name": "stdout",
          "text": [
            "[[12  1]\n",
            " [ 4  0]]\n"
          ]
        }
      ],
      "source": [
        "x2_sub = x2[:2, :2]\n",
        "print(x2_sub)"
      ]
    },
    {
      "cell_type": "markdown",
      "metadata": {
        "id": "Gpm8ZKXsRB93"
      },
      "source": [
        "Now if we modify this subarray, we'll see that the original array is changed! Observe:"
      ]
    },
    {
      "cell_type": "code",
      "execution_count": 457,
      "metadata": {
        "jupyter": {
          "outputs_hidden": false
        },
        "id": "866QJ8U8RB93",
        "outputId": "69ec93e5-17bd-4267-e9e6-6d934d7b0568",
        "colab": {
          "base_uri": "https://localhost:8080/"
        }
      },
      "outputs": [
        {
          "output_type": "stream",
          "name": "stdout",
          "text": [
            "[[99  1]\n",
            " [ 4  0]]\n"
          ]
        }
      ],
      "source": [
        "x2_sub[0, 0] = 99\n",
        "print(x2_sub)"
      ]
    },
    {
      "cell_type": "code",
      "execution_count": 458,
      "metadata": {
        "jupyter": {
          "outputs_hidden": false
        },
        "id": "kFZyXgA7RB93",
        "outputId": "01e6f54e-b8bf-40e6-91e5-8ec3c1c28522",
        "colab": {
          "base_uri": "https://localhost:8080/"
        }
      },
      "outputs": [
        {
          "output_type": "stream",
          "name": "stdout",
          "text": [
            "[[99  1  3  7]\n",
            " [ 4  0  2  3]\n",
            " [ 0  0  6  9]]\n"
          ]
        }
      ],
      "source": [
        "print(x2)"
      ]
    },
    {
      "cell_type": "markdown",
      "metadata": {
        "id": "lPu5-Sd4RB93"
      },
      "source": [
        "Some users may find this surprising, but it can be advantageous: for example, when working with large datasets, we can access and process pieces of these datasets without the need to copy the underlying data buffer."
      ]
    },
    {
      "cell_type": "markdown",
      "metadata": {
        "id": "y0qtLJdxRB93"
      },
      "source": [
        "### Creating Copies of Arrays\n",
        "\n",
        "Despite the nice features of array views, it is sometimes useful to instead explicitly copy the data within an array or a subarray. This can be most easily done with the `copy` method:"
      ]
    },
    {
      "cell_type": "code",
      "execution_count": 459,
      "metadata": {
        "jupyter": {
          "outputs_hidden": false
        },
        "id": "ZfhnWf67RB93",
        "outputId": "b0d5cfa0-5272-4955-c4f8-7ddb3293b730",
        "colab": {
          "base_uri": "https://localhost:8080/"
        }
      },
      "outputs": [
        {
          "output_type": "stream",
          "name": "stdout",
          "text": [
            "[[99  1]\n",
            " [ 4  0]]\n"
          ]
        }
      ],
      "source": [
        "x2_sub_copy = x2[:2, :2].copy()\n",
        "print(x2_sub_copy)"
      ]
    },
    {
      "cell_type": "markdown",
      "metadata": {
        "id": "EXhXIRVYRB93"
      },
      "source": [
        "If we now modify this subarray, the original array is not touched:"
      ]
    },
    {
      "cell_type": "code",
      "execution_count": 460,
      "metadata": {
        "jupyter": {
          "outputs_hidden": false
        },
        "id": "KqCZuHZkRB93",
        "outputId": "470f973c-92a7-4c58-fdf0-7a9ef9987428",
        "colab": {
          "base_uri": "https://localhost:8080/"
        }
      },
      "outputs": [
        {
          "output_type": "stream",
          "name": "stdout",
          "text": [
            "[[42  1]\n",
            " [ 4  0]]\n"
          ]
        }
      ],
      "source": [
        "x2_sub_copy[0, 0] = 42\n",
        "print(x2_sub_copy)"
      ]
    },
    {
      "cell_type": "code",
      "execution_count": 461,
      "metadata": {
        "jupyter": {
          "outputs_hidden": false
        },
        "id": "2_eAAYflRB93",
        "outputId": "4188020d-4db8-421c-c865-191f6844f35b",
        "colab": {
          "base_uri": "https://localhost:8080/"
        }
      },
      "outputs": [
        {
          "output_type": "stream",
          "name": "stdout",
          "text": [
            "[[99  1  3  7]\n",
            " [ 4  0  2  3]\n",
            " [ 0  0  6  9]]\n"
          ]
        }
      ],
      "source": [
        "print(x2)"
      ]
    },
    {
      "cell_type": "markdown",
      "metadata": {
        "id": "N0GLQdA6RB93"
      },
      "source": [
        "## Reshaping of Arrays\n",
        "\n",
        "Another useful type of operation is reshaping of arrays, which can be done with the `reshape` method.\n",
        "For example, if you want to put the numbers 1 through 9 in a $3 \\times 3$ grid, you can do the following:"
      ]
    },
    {
      "cell_type": "code",
      "execution_count": 462,
      "metadata": {
        "jupyter": {
          "outputs_hidden": false
        },
        "id": "QorsajKFRB94",
        "outputId": "df7a9a5d-07ad-4195-80c0-70b9c1c5740c",
        "colab": {
          "base_uri": "https://localhost:8080/"
        }
      },
      "outputs": [
        {
          "output_type": "stream",
          "name": "stdout",
          "text": [
            "[[1 2 3]\n",
            " [4 5 6]\n",
            " [7 8 9]]\n"
          ]
        }
      ],
      "source": [
        "grid = np.arange(1, 10).reshape(3, 3)\n",
        "print(grid)"
      ]
    },
    {
      "cell_type": "markdown",
      "metadata": {
        "id": "Pvb3e4n8RB94"
      },
      "source": [
        "Note that for this to work, the size of the initial array must match the size of the reshaped array, and in most cases the `reshape` method will return a no-copy view of the initial array."
      ]
    },
    {
      "cell_type": "markdown",
      "metadata": {
        "id": "LB6xy49zRB94"
      },
      "source": [
        "A common reshaping operation is converting a one-dimensional array into a two-dimensional row or column matrix:"
      ]
    },
    {
      "cell_type": "code",
      "execution_count": 463,
      "metadata": {
        "jupyter": {
          "outputs_hidden": false
        },
        "id": "3sAoGHe3RB94",
        "outputId": "95dafcae-fe0b-45b4-dfd5-fff4e728b4ab",
        "colab": {
          "base_uri": "https://localhost:8080/"
        }
      },
      "outputs": [
        {
          "output_type": "execute_result",
          "data": {
            "text/plain": [
              "array([[1, 2, 3]])"
            ]
          },
          "metadata": {},
          "execution_count": 463
        }
      ],
      "source": [
        "x = np.array([1, 2, 3])\n",
        "x.reshape((1, 3))  # row vector via reshape"
      ]
    },
    {
      "cell_type": "code",
      "execution_count": 464,
      "metadata": {
        "id": "_8Q6b4VRRB94",
        "outputId": "53a564d0-da91-4ee8-fccb-3311cfb1fe01",
        "colab": {
          "base_uri": "https://localhost:8080/"
        }
      },
      "outputs": [
        {
          "output_type": "execute_result",
          "data": {
            "text/plain": [
              "array([[1],\n",
              "       [2],\n",
              "       [3]])"
            ]
          },
          "metadata": {},
          "execution_count": 464
        }
      ],
      "source": [
        "x.reshape((3, 1))  # column vector via reshape"
      ]
    },
    {
      "cell_type": "markdown",
      "metadata": {
        "id": "bKINXnd-RB94"
      },
      "source": [
        "A convenient shorthand for this is to use `np.newaxis` in the slicing syntax:"
      ]
    },
    {
      "cell_type": "code",
      "execution_count": 465,
      "metadata": {
        "jupyter": {
          "outputs_hidden": false
        },
        "id": "tU5nk5lgRB94",
        "outputId": "4b8bd613-087c-4b20-a448-e10f96dd57cc",
        "colab": {
          "base_uri": "https://localhost:8080/"
        }
      },
      "outputs": [
        {
          "output_type": "execute_result",
          "data": {
            "text/plain": [
              "array([[1, 2, 3]])"
            ]
          },
          "metadata": {},
          "execution_count": 465
        }
      ],
      "source": [
        "x[np.newaxis, :]  # row vector via newaxis"
      ]
    },
    {
      "cell_type": "code",
      "execution_count": 466,
      "metadata": {
        "jupyter": {
          "outputs_hidden": false
        },
        "id": "cPzvkduVRB94",
        "outputId": "5c5b942a-5da9-4458-c8eb-1e5c69169cd9",
        "colab": {
          "base_uri": "https://localhost:8080/"
        }
      },
      "outputs": [
        {
          "output_type": "execute_result",
          "data": {
            "text/plain": [
              "array([[1],\n",
              "       [2],\n",
              "       [3]])"
            ]
          },
          "metadata": {},
          "execution_count": 466
        }
      ],
      "source": [
        "x[:, np.newaxis]  # column vector via newaxis"
      ]
    },
    {
      "cell_type": "markdown",
      "metadata": {
        "id": "jzfRArNoRB94"
      },
      "source": [
        "This is a pattern that we will utilize often throughout the remainder of the book."
      ]
    },
    {
      "cell_type": "markdown",
      "metadata": {
        "id": "WJyIKq4wRB94"
      },
      "source": [
        "## Array Concatenation and Splitting\n",
        "\n",
        "All of the preceding routines worked on single arrays. NumPy also provides tools to combine multiple arrays into one, and to conversely split a single array into multiple arrays."
      ]
    },
    {
      "cell_type": "markdown",
      "metadata": {
        "id": "qG5Bq7IORB94"
      },
      "source": [
        "### Concatenation of Arrays\n",
        "\n",
        "Concatenation, or joining of two arrays in NumPy, is primarily accomplished using the routines `np.concatenate`, `np.vstack`, and `np.hstack`.\n",
        "`np.concatenate` takes a tuple or list of arrays as its first argument, as you can see here:"
      ]
    },
    {
      "cell_type": "code",
      "execution_count": 467,
      "metadata": {
        "jupyter": {
          "outputs_hidden": false
        },
        "id": "o1_1OZ2ERB94",
        "outputId": "4a6d9a69-17cd-4776-c77f-7635d5b9d8c2",
        "colab": {
          "base_uri": "https://localhost:8080/"
        }
      },
      "outputs": [
        {
          "output_type": "execute_result",
          "data": {
            "text/plain": [
              "array([1, 2, 3, 3, 2, 1])"
            ]
          },
          "metadata": {},
          "execution_count": 467
        }
      ],
      "source": [
        "x = np.array([1, 2, 3])\n",
        "y = np.array([3, 2, 1])\n",
        "np.concatenate([x, y])"
      ]
    },
    {
      "cell_type": "markdown",
      "metadata": {
        "id": "wSVMdfe7RB94"
      },
      "source": [
        "You can also concatenate more than two arrays at once:"
      ]
    },
    {
      "cell_type": "code",
      "execution_count": 468,
      "metadata": {
        "jupyter": {
          "outputs_hidden": false
        },
        "id": "f6NE3qD1RB94",
        "outputId": "5d1e06da-5d08-497c-864c-3b594aac81da",
        "colab": {
          "base_uri": "https://localhost:8080/"
        }
      },
      "outputs": [
        {
          "output_type": "stream",
          "name": "stdout",
          "text": [
            "[ 1  2  3  3  2  1 99 99 99]\n"
          ]
        }
      ],
      "source": [
        "z = np.array([99, 99, 99])\n",
        "print(np.concatenate([x, y, z]))"
      ]
    },
    {
      "cell_type": "markdown",
      "metadata": {
        "id": "RVm8yaFGRB94"
      },
      "source": [
        "And it can be used for two-dimensional arrays:"
      ]
    },
    {
      "cell_type": "code",
      "execution_count": 469,
      "metadata": {
        "jupyter": {
          "outputs_hidden": false
        },
        "id": "QLpfNEkxRB94"
      },
      "outputs": [],
      "source": [
        "grid = np.array([[1, 2, 3],\n",
        "                 [4, 5, 6]])"
      ]
    },
    {
      "cell_type": "code",
      "execution_count": 470,
      "metadata": {
        "jupyter": {
          "outputs_hidden": false
        },
        "id": "A3JDoZdDRB94",
        "outputId": "93120a53-458a-4915-f5fc-dcb2b12061ef",
        "colab": {
          "base_uri": "https://localhost:8080/"
        }
      },
      "outputs": [
        {
          "output_type": "execute_result",
          "data": {
            "text/plain": [
              "array([[1, 2, 3],\n",
              "       [4, 5, 6],\n",
              "       [1, 2, 3],\n",
              "       [4, 5, 6]])"
            ]
          },
          "metadata": {},
          "execution_count": 470
        }
      ],
      "source": [
        "# concatenate along the first axis\n",
        "np.concatenate([grid, grid])"
      ]
    },
    {
      "cell_type": "code",
      "execution_count": 471,
      "metadata": {
        "jupyter": {
          "outputs_hidden": false
        },
        "id": "uVhM77u7RB95",
        "outputId": "d8ceaa1f-e1ed-4996-fc8f-e4d9c7ab5543",
        "colab": {
          "base_uri": "https://localhost:8080/"
        }
      },
      "outputs": [
        {
          "output_type": "execute_result",
          "data": {
            "text/plain": [
              "array([[1, 2, 3, 1, 2, 3],\n",
              "       [4, 5, 6, 4, 5, 6]])"
            ]
          },
          "metadata": {},
          "execution_count": 471
        }
      ],
      "source": [
        "# concatenate along the second axis (zero-indexed)\n",
        "np.concatenate([grid, grid], axis=1)"
      ]
    },
    {
      "cell_type": "markdown",
      "metadata": {
        "id": "m0PbvtfTRB95"
      },
      "source": [
        "For working with arrays of mixed dimensions, it can be clearer to use the `np.vstack` (vertical stack) and `np.hstack` (horizontal stack) functions:"
      ]
    },
    {
      "cell_type": "code",
      "execution_count": 472,
      "metadata": {
        "jupyter": {
          "outputs_hidden": false
        },
        "id": "miv3R6HjRB95",
        "outputId": "6f5aae9d-f89e-4f56-a7dd-0e5e1ecd64ed",
        "colab": {
          "base_uri": "https://localhost:8080/"
        }
      },
      "outputs": [
        {
          "output_type": "execute_result",
          "data": {
            "text/plain": [
              "array([[1, 2, 3],\n",
              "       [1, 2, 3],\n",
              "       [4, 5, 6]])"
            ]
          },
          "metadata": {},
          "execution_count": 472
        }
      ],
      "source": [
        "# vertically stack the arrays\n",
        "np.vstack([x, grid])"
      ]
    },
    {
      "cell_type": "code",
      "execution_count": 473,
      "metadata": {
        "jupyter": {
          "outputs_hidden": false
        },
        "id": "RB9L7O8JRB95",
        "outputId": "38320dc5-3926-4c7a-ca0b-b37620832ab7",
        "colab": {
          "base_uri": "https://localhost:8080/"
        }
      },
      "outputs": [
        {
          "output_type": "execute_result",
          "data": {
            "text/plain": [
              "array([[ 1,  2,  3, 99],\n",
              "       [ 4,  5,  6, 99]])"
            ]
          },
          "metadata": {},
          "execution_count": 473
        }
      ],
      "source": [
        "# horizontally stack the arrays\n",
        "y = np.array([[99],\n",
        "              [99]])\n",
        "np.hstack([grid, y])"
      ]
    },
    {
      "cell_type": "markdown",
      "metadata": {
        "id": "t0pefDIuRB95"
      },
      "source": [
        "Similarly, for higher-dimensional arrays, `np.dstack` will stack arrays along the third axis."
      ]
    },
    {
      "cell_type": "markdown",
      "metadata": {
        "id": "PgFuLFOrRB95"
      },
      "source": [
        "### Splitting of Arrays\n",
        "\n",
        "The opposite of concatenation is splitting, which is implemented by the functions `np.split`, `np.hsplit`, and `np.vsplit`.  For each of these, we can pass a list of indices giving the split points:"
      ]
    },
    {
      "cell_type": "code",
      "execution_count": 474,
      "metadata": {
        "jupyter": {
          "outputs_hidden": false
        },
        "id": "sVkl2UJKRB95",
        "outputId": "50b05af8-b861-49d6-9166-a38959571f28",
        "colab": {
          "base_uri": "https://localhost:8080/"
        }
      },
      "outputs": [
        {
          "output_type": "stream",
          "name": "stdout",
          "text": [
            "[1 2 3] [99 99] [3 2 1]\n"
          ]
        }
      ],
      "source": [
        "x = [1, 2, 3, 99, 99, 3, 2, 1]\n",
        "x1, x2, x3 = np.split(x, [3, 5])\n",
        "print(x1, x2, x3)"
      ]
    },
    {
      "cell_type": "markdown",
      "metadata": {
        "id": "crpwYAqBRB95"
      },
      "source": [
        "Notice that *N* split points leads to *N* + 1 subarrays.\n",
        "The related functions `np.hsplit` and `np.vsplit` are similar:"
      ]
    },
    {
      "cell_type": "code",
      "execution_count": 475,
      "metadata": {
        "jupyter": {
          "outputs_hidden": false
        },
        "id": "znEi7BQpRB95",
        "outputId": "2a2f1ac2-8b66-41d0-a125-b199ee8d1e67",
        "colab": {
          "base_uri": "https://localhost:8080/"
        }
      },
      "outputs": [
        {
          "output_type": "execute_result",
          "data": {
            "text/plain": [
              "array([[ 0,  1,  2,  3],\n",
              "       [ 4,  5,  6,  7],\n",
              "       [ 8,  9, 10, 11],\n",
              "       [12, 13, 14, 15]])"
            ]
          },
          "metadata": {},
          "execution_count": 475
        }
      ],
      "source": [
        "grid = np.arange(16).reshape((4, 4))\n",
        "grid"
      ]
    },
    {
      "cell_type": "code",
      "execution_count": 476,
      "metadata": {
        "jupyter": {
          "outputs_hidden": false
        },
        "id": "-Q0shGr5RB95",
        "outputId": "c61b4412-fce7-4cb1-91e8-020b31403a06",
        "colab": {
          "base_uri": "https://localhost:8080/"
        }
      },
      "outputs": [
        {
          "output_type": "stream",
          "name": "stdout",
          "text": [
            "[[0 1 2 3]\n",
            " [4 5 6 7]]\n",
            "[[ 8  9 10 11]\n",
            " [12 13 14 15]]\n"
          ]
        }
      ],
      "source": [
        "upper, lower = np.vsplit(grid, [2])\n",
        "print(upper)\n",
        "print(lower)"
      ]
    },
    {
      "cell_type": "code",
      "execution_count": 477,
      "metadata": {
        "jupyter": {
          "outputs_hidden": false
        },
        "id": "_ZYfhjD0RB95",
        "outputId": "b5444596-6b5b-471f-bb42-494d592ed5c4",
        "colab": {
          "base_uri": "https://localhost:8080/"
        }
      },
      "outputs": [
        {
          "output_type": "stream",
          "name": "stdout",
          "text": [
            "[[ 0  1]\n",
            " [ 4  5]\n",
            " [ 8  9]\n",
            " [12 13]]\n",
            "[[ 2  3]\n",
            " [ 6  7]\n",
            " [10 11]\n",
            " [14 15]]\n"
          ]
        }
      ],
      "source": [
        "left, right = np.hsplit(grid, [2])\n",
        "print(left)\n",
        "print(right)"
      ]
    },
    {
      "cell_type": "markdown",
      "metadata": {
        "id": "3f_OOq3TRB95"
      },
      "source": [
        "Similarly, for higher-dimensional arrays, `np.dsplit` will split arrays along the third axis."
      ]
    }
  ],
  "metadata": {
    "anaconda-cloud": {},
    "jupytext": {
      "formats": "ipynb,md"
    },
    "kernelspec": {
      "display_name": "Python 3",
      "language": "python",
      "name": "python3"
    },
    "language_info": {
      "codemirror_mode": {
        "name": "ipython",
        "version": 3
      },
      "file_extension": ".py",
      "mimetype": "text/x-python",
      "name": "python",
      "nbconvert_exporter": "python",
      "pygments_lexer": "ipython3",
      "version": "3.9.2"
    },
    "colab": {
      "provenance": []
    }
  },
  "nbformat": 4,
  "nbformat_minor": 0
}